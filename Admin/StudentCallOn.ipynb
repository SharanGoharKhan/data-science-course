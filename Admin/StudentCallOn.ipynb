{
 "metadata": {
  "name": "",
  "signature": "sha256:76dfddc5ea46df5c77791c85f6ac564551b3f86e844a6e59c1f5f61ee2aeac90"
 },
 "nbformat": 3,
 "nbformat_minor": 0,
 "worksheets": [
  {
   "cells": [
    {
     "cell_type": "code",
     "collapsed": false,
     "input": [
      "# Initialize\n",
      "students=(\"Dave,Sam,Ryan,Anastasia,Jon,Timothy,Deepti,Chris,julia,Carlo,Venus,Laila,Michael,Robert,Radu,David,Ariba,Rob,Justin\")\n",
      "import random\n",
      "students = students.split(\",\")\n",
      "notanswered=students\n",
      "\n",
      "def answer(x=notanswered):\n",
      "    if len(x) != 0:\n",
      "        new=random.sample(x,1)\n",
      "        print \"Current Student: \",new[0]\n",
      "        print \"\\n\"\n",
      "        x.remove(new[0])\n",
      "        print len(x),\"remaining Students: \",\"\\n\",', '.join(x)\n",
      "    else:\n",
      "        print(\"Everyone answered a question!\")\n",
      "    return(x)"
     ],
     "language": "python",
     "metadata": {},
     "outputs": [],
     "prompt_number": 25
    },
    {
     "cell_type": "code",
     "collapsed": false,
     "input": [
      "# Run\n",
      "notanswered=answer()"
     ],
     "language": "python",
     "metadata": {},
     "outputs": [
      {
       "output_type": "stream",
       "stream": "stdout",
       "text": [
        "Current Student:  Chris\n",
        "\n",
        "\n",
        "18 remaining Students:  \n",
        "Dave, Sam, Ryan, Anastasia, Jon, Timothy, Deepti, julia, Carlo, Venus, Laila, Michael, Robert, Radu, David, Ariba, Rob, Justin\n"
       ]
      }
     ],
     "prompt_number": 26
    }
   ],
   "metadata": {}
  }
 ]
}