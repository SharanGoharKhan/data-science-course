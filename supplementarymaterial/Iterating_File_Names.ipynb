{
 "metadata": {
  "name": "",
  "signature": "sha256:8b563697bfee948862ca6483ac4beeba822d07811a5ec8d6ffa435883d1ad3b2"
 },
 "nbformat": 3,
 "nbformat_minor": 0,
 "worksheets": [
  {
   "cells": [
    {
     "cell_type": "code",
     "collapsed": false,
     "input": [
      "import pandas as pd\n",
      "import numpy as np"
     ],
     "language": "python",
     "metadata": {},
     "outputs": [],
     "prompt_number": 68
    },
    {
     "cell_type": "code",
     "collapsed": false,
     "input": [
      "# Create a key list\n",
      "mykeylist = ['_a_','_b_','_c_','_d_']\n",
      "# Note, this list can be whatever strings you like"
     ],
     "language": "python",
     "metadata": {},
     "outputs": [],
     "prompt_number": 69
    },
    {
     "cell_type": "code",
     "collapsed": false,
     "input": [
      "# Create a dictionary for your arrays:\n",
      "OriginalData=dict.fromkeys(mykeylist)\n",
      "\n",
      "# Create a dictionary for your dataframed arrays\n",
      "DataFramedData=dict.fromkeys(mykeylist)"
     ],
     "language": "python",
     "metadata": {},
     "outputs": [],
     "prompt_number": 70
    },
    {
     "cell_type": "code",
     "collapsed": false,
     "input": [
      "# Load up your dictionary with your original unconverted data \n",
      "for key in range(len(mykeylist)): #Here, you're calling the strings of keys as numbers\n",
      "    OriginalData[mykeylist[key]]=np.random.randn(10,5) #This is just random data as an example, not sure where your arrays are coming from"
     ],
     "language": "python",
     "metadata": {},
     "outputs": [],
     "prompt_number": 71
    },
    {
     "cell_type": "code",
     "collapsed": false,
     "input": [
      "# Now, to convert all of your arrays to dataframes:\n",
      "for key in range(len(mykeylist)):\n",
      "    DataFramedData[mykeylist[key]]=pd.DataFrame(OriginalData[mykeylist[key]])\n",
      "    "
     ],
     "language": "python",
     "metadata": {},
     "outputs": [],
     "prompt_number": 72
    },
    {
     "cell_type": "code",
     "collapsed": false,
     "input": [
      "# Now, you can export your DataFrames and label them based on your initial string list\n",
      "for key in range(len(mykeylist)):\n",
      "    DataFramedData[mykeylist[key]].to_csv('myprefix'+mykeylist[key]+'mysuffix')\n"
     ],
     "language": "python",
     "metadata": {},
     "outputs": [],
     "prompt_number": 73
    },
    {
     "cell_type": "code",
     "collapsed": false,
     "input": [
      "ls"
     ],
     "language": "python",
     "metadata": {},
     "outputs": [
      {
       "output_type": "stream",
       "stream": "stdout",
       "text": [
        "Class_Help_Snippets.ipynb  myprefix_c_mysuffix        myprefixbmysuffix\r\n",
        "myprefix_a_mysuffix        myprefix_d_mysuffix        myprefixcmysuffix\r\n",
        "myprefix_b_mysuffix        myprefixamysuffix          myprefixdmysuffix\r\n"
       ]
      }
     ],
     "prompt_number": 74
    },
    {
     "cell_type": "code",
     "collapsed": false,
     "input": [
      "# And here is the function for datetime if you wanted to create a list of these:\n",
      "import datetime\n",
      "\n",
      "datetime.datetime.now()"
     ],
     "language": "python",
     "metadata": {},
     "outputs": [
      {
       "metadata": {},
       "output_type": "pyout",
       "prompt_number": 76,
       "text": [
        "datetime.datetime(2014, 6, 18, 20, 2, 1, 656918)"
       ]
      }
     ],
     "prompt_number": 76
    }
   ],
   "metadata": {}
  }
 ]
}